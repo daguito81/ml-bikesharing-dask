{
 "cells": [
  {
   "cell_type": "code",
   "execution_count": 1,
   "metadata": {
    "ExecuteTime": {
     "end_time": "2019-03-09T14:18:55.770885Z",
     "start_time": "2019-03-09T14:18:39.011745Z"
    }
   },
   "outputs": [],
   "source": [
    "import numpy as np\n",
    "import pandas as pd\n",
    "import matplotlib.pyplot as plt\n",
    "import seaborn as sns\n",
    "%matplotlib inline\n",
    "\n",
    "import warnings\n",
    "warnings.filterwarnings('ignore')\n",
    "\n",
    "import time"
   ]
  },
  {
   "cell_type": "code",
   "execution_count": 2,
   "metadata": {
    "ExecuteTime": {
     "end_time": "2019-03-09T14:18:55.786880Z",
     "start_time": "2019-03-09T14:18:55.781882Z"
    }
   },
   "outputs": [],
   "source": [
    "start_script = time.time()"
   ]
  },
  {
   "cell_type": "code",
   "execution_count": 3,
   "metadata": {
    "ExecuteTime": {
     "end_time": "2019-03-09T14:19:05.265845Z",
     "start_time": "2019-03-09T14:18:55.796876Z"
    }
   },
   "outputs": [],
   "source": [
    "from sklearn.datasets import load_boston"
   ]
  },
  {
   "cell_type": "code",
   "execution_count": 4,
   "metadata": {
    "ExecuteTime": {
     "end_time": "2019-03-09T14:19:05.370812Z",
     "start_time": "2019-03-09T14:19:05.281841Z"
    }
   },
   "outputs": [],
   "source": [
    "data = load_boston()"
   ]
  },
  {
   "cell_type": "code",
   "execution_count": 5,
   "metadata": {
    "ExecuteTime": {
     "end_time": "2019-03-09T14:19:05.432792Z",
     "start_time": "2019-03-09T14:19:05.399804Z"
    }
   },
   "outputs": [],
   "source": [
    "feat = pd.DataFrame(data['data'], columns=data['feature_names'])"
   ]
  },
  {
   "cell_type": "code",
   "execution_count": 6,
   "metadata": {
    "ExecuteTime": {
     "end_time": "2019-03-09T14:19:05.558752Z",
     "start_time": "2019-03-09T14:19:05.556752Z"
    }
   },
   "outputs": [],
   "source": [
    "target = data['target']"
   ]
  },
  {
   "cell_type": "code",
   "execution_count": 7,
   "metadata": {
    "ExecuteTime": {
     "end_time": "2019-03-09T14:19:05.676713Z",
     "start_time": "2019-03-09T14:19:05.623731Z"
    }
   },
   "outputs": [
    {
     "data": {
      "text/html": [
       "<div>\n",
       "<style scoped>\n",
       "    .dataframe tbody tr th:only-of-type {\n",
       "        vertical-align: middle;\n",
       "    }\n",
       "\n",
       "    .dataframe tbody tr th {\n",
       "        vertical-align: top;\n",
       "    }\n",
       "\n",
       "    .dataframe thead th {\n",
       "        text-align: right;\n",
       "    }\n",
       "</style>\n",
       "<table border=\"1\" class=\"dataframe\">\n",
       "  <thead>\n",
       "    <tr style=\"text-align: right;\">\n",
       "      <th></th>\n",
       "      <th>CRIM</th>\n",
       "      <th>ZN</th>\n",
       "      <th>INDUS</th>\n",
       "      <th>CHAS</th>\n",
       "      <th>NOX</th>\n",
       "      <th>RM</th>\n",
       "      <th>AGE</th>\n",
       "      <th>DIS</th>\n",
       "      <th>RAD</th>\n",
       "      <th>TAX</th>\n",
       "      <th>PTRATIO</th>\n",
       "      <th>B</th>\n",
       "      <th>LSTAT</th>\n",
       "    </tr>\n",
       "  </thead>\n",
       "  <tbody>\n",
       "    <tr>\n",
       "      <th>0</th>\n",
       "      <td>0.00632</td>\n",
       "      <td>18.0</td>\n",
       "      <td>2.31</td>\n",
       "      <td>0.0</td>\n",
       "      <td>0.538</td>\n",
       "      <td>6.575</td>\n",
       "      <td>65.2</td>\n",
       "      <td>4.0900</td>\n",
       "      <td>1.0</td>\n",
       "      <td>296.0</td>\n",
       "      <td>15.3</td>\n",
       "      <td>396.90</td>\n",
       "      <td>4.98</td>\n",
       "    </tr>\n",
       "    <tr>\n",
       "      <th>1</th>\n",
       "      <td>0.02731</td>\n",
       "      <td>0.0</td>\n",
       "      <td>7.07</td>\n",
       "      <td>0.0</td>\n",
       "      <td>0.469</td>\n",
       "      <td>6.421</td>\n",
       "      <td>78.9</td>\n",
       "      <td>4.9671</td>\n",
       "      <td>2.0</td>\n",
       "      <td>242.0</td>\n",
       "      <td>17.8</td>\n",
       "      <td>396.90</td>\n",
       "      <td>9.14</td>\n",
       "    </tr>\n",
       "    <tr>\n",
       "      <th>2</th>\n",
       "      <td>0.02729</td>\n",
       "      <td>0.0</td>\n",
       "      <td>7.07</td>\n",
       "      <td>0.0</td>\n",
       "      <td>0.469</td>\n",
       "      <td>7.185</td>\n",
       "      <td>61.1</td>\n",
       "      <td>4.9671</td>\n",
       "      <td>2.0</td>\n",
       "      <td>242.0</td>\n",
       "      <td>17.8</td>\n",
       "      <td>392.83</td>\n",
       "      <td>4.03</td>\n",
       "    </tr>\n",
       "    <tr>\n",
       "      <th>3</th>\n",
       "      <td>0.03237</td>\n",
       "      <td>0.0</td>\n",
       "      <td>2.18</td>\n",
       "      <td>0.0</td>\n",
       "      <td>0.458</td>\n",
       "      <td>6.998</td>\n",
       "      <td>45.8</td>\n",
       "      <td>6.0622</td>\n",
       "      <td>3.0</td>\n",
       "      <td>222.0</td>\n",
       "      <td>18.7</td>\n",
       "      <td>394.63</td>\n",
       "      <td>2.94</td>\n",
       "    </tr>\n",
       "    <tr>\n",
       "      <th>4</th>\n",
       "      <td>0.06905</td>\n",
       "      <td>0.0</td>\n",
       "      <td>2.18</td>\n",
       "      <td>0.0</td>\n",
       "      <td>0.458</td>\n",
       "      <td>7.147</td>\n",
       "      <td>54.2</td>\n",
       "      <td>6.0622</td>\n",
       "      <td>3.0</td>\n",
       "      <td>222.0</td>\n",
       "      <td>18.7</td>\n",
       "      <td>396.90</td>\n",
       "      <td>5.33</td>\n",
       "    </tr>\n",
       "  </tbody>\n",
       "</table>\n",
       "</div>"
      ],
      "text/plain": [
       "      CRIM    ZN  INDUS  CHAS    NOX     RM   AGE     DIS  RAD    TAX  \\\n",
       "0  0.00632  18.0   2.31   0.0  0.538  6.575  65.2  4.0900  1.0  296.0   \n",
       "1  0.02731   0.0   7.07   0.0  0.469  6.421  78.9  4.9671  2.0  242.0   \n",
       "2  0.02729   0.0   7.07   0.0  0.469  7.185  61.1  4.9671  2.0  242.0   \n",
       "3  0.03237   0.0   2.18   0.0  0.458  6.998  45.8  6.0622  3.0  222.0   \n",
       "4  0.06905   0.0   2.18   0.0  0.458  7.147  54.2  6.0622  3.0  222.0   \n",
       "\n",
       "   PTRATIO       B  LSTAT  \n",
       "0     15.3  396.90   4.98  \n",
       "1     17.8  396.90   9.14  \n",
       "2     17.8  392.83   4.03  \n",
       "3     18.7  394.63   2.94  \n",
       "4     18.7  396.90   5.33  "
      ]
     },
     "execution_count": 7,
     "metadata": {},
     "output_type": "execute_result"
    }
   ],
   "source": [
    "feat.head()"
   ]
  },
  {
   "cell_type": "code",
   "execution_count": 8,
   "metadata": {
    "ExecuteTime": {
     "end_time": "2019-03-09T14:19:05.758688Z",
     "start_time": "2019-03-09T14:19:05.749693Z"
    }
   },
   "outputs": [
    {
     "name": "stdout",
     "output_type": "stream",
     "text": [
      "<class 'pandas.core.frame.DataFrame'>\n",
      "RangeIndex: 506 entries, 0 to 505\n",
      "Data columns (total 13 columns):\n",
      "CRIM       506 non-null float64\n",
      "ZN         506 non-null float64\n",
      "INDUS      506 non-null float64\n",
      "CHAS       506 non-null float64\n",
      "NOX        506 non-null float64\n",
      "RM         506 non-null float64\n",
      "AGE        506 non-null float64\n",
      "DIS        506 non-null float64\n",
      "RAD        506 non-null float64\n",
      "TAX        506 non-null float64\n",
      "PTRATIO    506 non-null float64\n",
      "B          506 non-null float64\n",
      "LSTAT      506 non-null float64\n",
      "dtypes: float64(13)\n",
      "memory usage: 51.5 KB\n"
     ]
    }
   ],
   "source": [
    "feat.info() #Everything is a number so no need to deal with categoricals"
   ]
  },
  {
   "cell_type": "code",
   "execution_count": 9,
   "metadata": {
    "ExecuteTime": {
     "end_time": "2019-03-09T14:19:05.850659Z",
     "start_time": "2019-03-09T14:19:05.847660Z"
    }
   },
   "outputs": [],
   "source": [
    "df = feat.copy()"
   ]
  },
  {
   "cell_type": "code",
   "execution_count": 10,
   "metadata": {
    "ExecuteTime": {
     "end_time": "2019-03-09T14:19:06.016608Z",
     "start_time": "2019-03-09T14:19:06.011609Z"
    }
   },
   "outputs": [],
   "source": [
    "df['medv'] = target"
   ]
  },
  {
   "cell_type": "code",
   "execution_count": 11,
   "metadata": {
    "ExecuteTime": {
     "end_time": "2019-03-09T14:19:06.185552Z",
     "start_time": "2019-03-09T14:19:06.168556Z"
    }
   },
   "outputs": [
    {
     "data": {
      "text/html": [
       "<div>\n",
       "<style scoped>\n",
       "    .dataframe tbody tr th:only-of-type {\n",
       "        vertical-align: middle;\n",
       "    }\n",
       "\n",
       "    .dataframe tbody tr th {\n",
       "        vertical-align: top;\n",
       "    }\n",
       "\n",
       "    .dataframe thead th {\n",
       "        text-align: right;\n",
       "    }\n",
       "</style>\n",
       "<table border=\"1\" class=\"dataframe\">\n",
       "  <thead>\n",
       "    <tr style=\"text-align: right;\">\n",
       "      <th></th>\n",
       "      <th>CRIM</th>\n",
       "      <th>ZN</th>\n",
       "      <th>INDUS</th>\n",
       "      <th>CHAS</th>\n",
       "      <th>NOX</th>\n",
       "      <th>RM</th>\n",
       "      <th>AGE</th>\n",
       "      <th>DIS</th>\n",
       "      <th>RAD</th>\n",
       "      <th>TAX</th>\n",
       "      <th>PTRATIO</th>\n",
       "      <th>B</th>\n",
       "      <th>LSTAT</th>\n",
       "      <th>medv</th>\n",
       "    </tr>\n",
       "  </thead>\n",
       "  <tbody>\n",
       "    <tr>\n",
       "      <th>0</th>\n",
       "      <td>0.00632</td>\n",
       "      <td>18.0</td>\n",
       "      <td>2.31</td>\n",
       "      <td>0.0</td>\n",
       "      <td>0.538</td>\n",
       "      <td>6.575</td>\n",
       "      <td>65.2</td>\n",
       "      <td>4.0900</td>\n",
       "      <td>1.0</td>\n",
       "      <td>296.0</td>\n",
       "      <td>15.3</td>\n",
       "      <td>396.90</td>\n",
       "      <td>4.98</td>\n",
       "      <td>24.0</td>\n",
       "    </tr>\n",
       "    <tr>\n",
       "      <th>1</th>\n",
       "      <td>0.02731</td>\n",
       "      <td>0.0</td>\n",
       "      <td>7.07</td>\n",
       "      <td>0.0</td>\n",
       "      <td>0.469</td>\n",
       "      <td>6.421</td>\n",
       "      <td>78.9</td>\n",
       "      <td>4.9671</td>\n",
       "      <td>2.0</td>\n",
       "      <td>242.0</td>\n",
       "      <td>17.8</td>\n",
       "      <td>396.90</td>\n",
       "      <td>9.14</td>\n",
       "      <td>21.6</td>\n",
       "    </tr>\n",
       "    <tr>\n",
       "      <th>2</th>\n",
       "      <td>0.02729</td>\n",
       "      <td>0.0</td>\n",
       "      <td>7.07</td>\n",
       "      <td>0.0</td>\n",
       "      <td>0.469</td>\n",
       "      <td>7.185</td>\n",
       "      <td>61.1</td>\n",
       "      <td>4.9671</td>\n",
       "      <td>2.0</td>\n",
       "      <td>242.0</td>\n",
       "      <td>17.8</td>\n",
       "      <td>392.83</td>\n",
       "      <td>4.03</td>\n",
       "      <td>34.7</td>\n",
       "    </tr>\n",
       "    <tr>\n",
       "      <th>3</th>\n",
       "      <td>0.03237</td>\n",
       "      <td>0.0</td>\n",
       "      <td>2.18</td>\n",
       "      <td>0.0</td>\n",
       "      <td>0.458</td>\n",
       "      <td>6.998</td>\n",
       "      <td>45.8</td>\n",
       "      <td>6.0622</td>\n",
       "      <td>3.0</td>\n",
       "      <td>222.0</td>\n",
       "      <td>18.7</td>\n",
       "      <td>394.63</td>\n",
       "      <td>2.94</td>\n",
       "      <td>33.4</td>\n",
       "    </tr>\n",
       "    <tr>\n",
       "      <th>4</th>\n",
       "      <td>0.06905</td>\n",
       "      <td>0.0</td>\n",
       "      <td>2.18</td>\n",
       "      <td>0.0</td>\n",
       "      <td>0.458</td>\n",
       "      <td>7.147</td>\n",
       "      <td>54.2</td>\n",
       "      <td>6.0622</td>\n",
       "      <td>3.0</td>\n",
       "      <td>222.0</td>\n",
       "      <td>18.7</td>\n",
       "      <td>396.90</td>\n",
       "      <td>5.33</td>\n",
       "      <td>36.2</td>\n",
       "    </tr>\n",
       "  </tbody>\n",
       "</table>\n",
       "</div>"
      ],
      "text/plain": [
       "      CRIM    ZN  INDUS  CHAS    NOX     RM   AGE     DIS  RAD    TAX  \\\n",
       "0  0.00632  18.0   2.31   0.0  0.538  6.575  65.2  4.0900  1.0  296.0   \n",
       "1  0.02731   0.0   7.07   0.0  0.469  6.421  78.9  4.9671  2.0  242.0   \n",
       "2  0.02729   0.0   7.07   0.0  0.469  7.185  61.1  4.9671  2.0  242.0   \n",
       "3  0.03237   0.0   2.18   0.0  0.458  6.998  45.8  6.0622  3.0  222.0   \n",
       "4  0.06905   0.0   2.18   0.0  0.458  7.147  54.2  6.0622  3.0  222.0   \n",
       "\n",
       "   PTRATIO       B  LSTAT  medv  \n",
       "0     15.3  396.90   4.98  24.0  \n",
       "1     17.8  396.90   9.14  21.6  \n",
       "2     17.8  392.83   4.03  34.7  \n",
       "3     18.7  394.63   2.94  33.4  \n",
       "4     18.7  396.90   5.33  36.2  "
      ]
     },
     "execution_count": 11,
     "metadata": {},
     "output_type": "execute_result"
    }
   ],
   "source": [
    "df.head()"
   ]
  },
  {
   "cell_type": "markdown",
   "metadata": {},
   "source": [
    "### Scaling"
   ]
  },
  {
   "cell_type": "code",
   "execution_count": 12,
   "metadata": {
    "ExecuteTime": {
     "end_time": "2019-03-09T14:19:06.318508Z",
     "start_time": "2019-03-09T14:19:06.315509Z"
    }
   },
   "outputs": [],
   "source": [
    "from sklearn.preprocessing import StandardScaler"
   ]
  },
  {
   "cell_type": "code",
   "execution_count": 13,
   "metadata": {
    "ExecuteTime": {
     "end_time": "2019-03-09T14:19:06.435471Z",
     "start_time": "2019-03-09T14:19:06.432473Z"
    }
   },
   "outputs": [],
   "source": [
    "scaler = StandardScaler()"
   ]
  },
  {
   "cell_type": "code",
   "execution_count": 14,
   "metadata": {
    "ExecuteTime": {
     "end_time": "2019-03-09T14:19:06.548435Z",
     "start_time": "2019-03-09T14:19:06.541437Z"
    }
   },
   "outputs": [],
   "source": [
    "feat = df.drop('medv', axis = 1)"
   ]
  },
  {
   "cell_type": "code",
   "execution_count": 15,
   "metadata": {
    "ExecuteTime": {
     "end_time": "2019-03-09T14:19:06.684392Z",
     "start_time": "2019-03-09T14:19:06.679392Z"
    }
   },
   "outputs": [],
   "source": [
    "feats = scaler.fit_transform(feat)"
   ]
  },
  {
   "cell_type": "code",
   "execution_count": 16,
   "metadata": {
    "ExecuteTime": {
     "end_time": "2019-03-09T14:19:06.847340Z",
     "start_time": "2019-03-09T14:19:06.843341Z"
    }
   },
   "outputs": [],
   "source": [
    "scaled_feats = pd.DataFrame(feats, columns=feat.columns)"
   ]
  },
  {
   "cell_type": "code",
   "execution_count": 17,
   "metadata": {
    "ExecuteTime": {
     "end_time": "2019-03-09T14:19:07.046275Z",
     "start_time": "2019-03-09T14:19:07.028282Z"
    }
   },
   "outputs": [
    {
     "data": {
      "text/html": [
       "<div>\n",
       "<style scoped>\n",
       "    .dataframe tbody tr th:only-of-type {\n",
       "        vertical-align: middle;\n",
       "    }\n",
       "\n",
       "    .dataframe tbody tr th {\n",
       "        vertical-align: top;\n",
       "    }\n",
       "\n",
       "    .dataframe thead th {\n",
       "        text-align: right;\n",
       "    }\n",
       "</style>\n",
       "<table border=\"1\" class=\"dataframe\">\n",
       "  <thead>\n",
       "    <tr style=\"text-align: right;\">\n",
       "      <th></th>\n",
       "      <th>CRIM</th>\n",
       "      <th>ZN</th>\n",
       "      <th>INDUS</th>\n",
       "      <th>CHAS</th>\n",
       "      <th>NOX</th>\n",
       "      <th>RM</th>\n",
       "      <th>AGE</th>\n",
       "      <th>DIS</th>\n",
       "      <th>RAD</th>\n",
       "      <th>TAX</th>\n",
       "      <th>PTRATIO</th>\n",
       "      <th>B</th>\n",
       "      <th>LSTAT</th>\n",
       "    </tr>\n",
       "  </thead>\n",
       "  <tbody>\n",
       "    <tr>\n",
       "      <th>0</th>\n",
       "      <td>-0.419782</td>\n",
       "      <td>0.284830</td>\n",
       "      <td>-1.287909</td>\n",
       "      <td>-0.272599</td>\n",
       "      <td>-0.144217</td>\n",
       "      <td>0.413672</td>\n",
       "      <td>-0.120013</td>\n",
       "      <td>0.140214</td>\n",
       "      <td>-0.982843</td>\n",
       "      <td>-0.666608</td>\n",
       "      <td>-1.459000</td>\n",
       "      <td>0.441052</td>\n",
       "      <td>-1.075562</td>\n",
       "    </tr>\n",
       "    <tr>\n",
       "      <th>1</th>\n",
       "      <td>-0.417339</td>\n",
       "      <td>-0.487722</td>\n",
       "      <td>-0.593381</td>\n",
       "      <td>-0.272599</td>\n",
       "      <td>-0.740262</td>\n",
       "      <td>0.194274</td>\n",
       "      <td>0.367166</td>\n",
       "      <td>0.557160</td>\n",
       "      <td>-0.867883</td>\n",
       "      <td>-0.987329</td>\n",
       "      <td>-0.303094</td>\n",
       "      <td>0.441052</td>\n",
       "      <td>-0.492439</td>\n",
       "    </tr>\n",
       "    <tr>\n",
       "      <th>2</th>\n",
       "      <td>-0.417342</td>\n",
       "      <td>-0.487722</td>\n",
       "      <td>-0.593381</td>\n",
       "      <td>-0.272599</td>\n",
       "      <td>-0.740262</td>\n",
       "      <td>1.282714</td>\n",
       "      <td>-0.265812</td>\n",
       "      <td>0.557160</td>\n",
       "      <td>-0.867883</td>\n",
       "      <td>-0.987329</td>\n",
       "      <td>-0.303094</td>\n",
       "      <td>0.396427</td>\n",
       "      <td>-1.208727</td>\n",
       "    </tr>\n",
       "    <tr>\n",
       "      <th>3</th>\n",
       "      <td>-0.416750</td>\n",
       "      <td>-0.487722</td>\n",
       "      <td>-1.306878</td>\n",
       "      <td>-0.272599</td>\n",
       "      <td>-0.835284</td>\n",
       "      <td>1.016303</td>\n",
       "      <td>-0.809889</td>\n",
       "      <td>1.077737</td>\n",
       "      <td>-0.752922</td>\n",
       "      <td>-1.106115</td>\n",
       "      <td>0.113032</td>\n",
       "      <td>0.416163</td>\n",
       "      <td>-1.361517</td>\n",
       "    </tr>\n",
       "    <tr>\n",
       "      <th>4</th>\n",
       "      <td>-0.412482</td>\n",
       "      <td>-0.487722</td>\n",
       "      <td>-1.306878</td>\n",
       "      <td>-0.272599</td>\n",
       "      <td>-0.835284</td>\n",
       "      <td>1.228577</td>\n",
       "      <td>-0.511180</td>\n",
       "      <td>1.077737</td>\n",
       "      <td>-0.752922</td>\n",
       "      <td>-1.106115</td>\n",
       "      <td>0.113032</td>\n",
       "      <td>0.441052</td>\n",
       "      <td>-1.026501</td>\n",
       "    </tr>\n",
       "  </tbody>\n",
       "</table>\n",
       "</div>"
      ],
      "text/plain": [
       "       CRIM        ZN     INDUS      CHAS       NOX        RM       AGE  \\\n",
       "0 -0.419782  0.284830 -1.287909 -0.272599 -0.144217  0.413672 -0.120013   \n",
       "1 -0.417339 -0.487722 -0.593381 -0.272599 -0.740262  0.194274  0.367166   \n",
       "2 -0.417342 -0.487722 -0.593381 -0.272599 -0.740262  1.282714 -0.265812   \n",
       "3 -0.416750 -0.487722 -1.306878 -0.272599 -0.835284  1.016303 -0.809889   \n",
       "4 -0.412482 -0.487722 -1.306878 -0.272599 -0.835284  1.228577 -0.511180   \n",
       "\n",
       "        DIS       RAD       TAX   PTRATIO         B     LSTAT  \n",
       "0  0.140214 -0.982843 -0.666608 -1.459000  0.441052 -1.075562  \n",
       "1  0.557160 -0.867883 -0.987329 -0.303094  0.441052 -0.492439  \n",
       "2  0.557160 -0.867883 -0.987329 -0.303094  0.396427 -1.208727  \n",
       "3  1.077737 -0.752922 -1.106115  0.113032  0.416163 -1.361517  \n",
       "4  1.077737 -0.752922 -1.106115  0.113032  0.441052 -1.026501  "
      ]
     },
     "execution_count": 17,
     "metadata": {},
     "output_type": "execute_result"
    }
   ],
   "source": [
    "scaled_feats.head()"
   ]
  },
  {
   "cell_type": "code",
   "execution_count": 18,
   "metadata": {
    "ExecuteTime": {
     "end_time": "2019-03-09T14:19:07.807033Z",
     "start_time": "2019-03-09T14:19:07.235216Z"
    }
   },
   "outputs": [],
   "source": [
    "from sklearn.model_selection import train_test_split"
   ]
  },
  {
   "cell_type": "code",
   "execution_count": 19,
   "metadata": {
    "ExecuteTime": {
     "end_time": "2019-03-09T14:19:07.987974Z",
     "start_time": "2019-03-09T14:19:07.948986Z"
    }
   },
   "outputs": [],
   "source": [
    "X_train, X_test, y_train, y_test = train_test_split(scaled_feats, df['medv'], test_size=0.33, random_state=42)"
   ]
  },
  {
   "cell_type": "markdown",
   "metadata": {},
   "source": [
    "## ML "
   ]
  },
  {
   "cell_type": "markdown",
   "metadata": {},
   "source": [
    "### Quick Model Prototyping"
   ]
  },
  {
   "cell_type": "code",
   "execution_count": 20,
   "metadata": {
    "ExecuteTime": {
     "end_time": "2019-03-09T14:19:09.419516Z",
     "start_time": "2019-03-09T14:19:08.371851Z"
    }
   },
   "outputs": [],
   "source": [
    "from sklearn.linear_model import LinearRegression, ARDRegression, BayesianRidge, ElasticNet, Lasso, Ridge\n",
    "from sklearn.linear_model import HuberRegressor, PassiveAggressiveRegressor, SGDRegressor, TheilSenRegressor"
   ]
  },
  {
   "cell_type": "code",
   "execution_count": null,
   "metadata": {
    "ExecuteTime": {
     "start_time": "2019-03-09T14:18:48.830Z"
    }
   },
   "outputs": [],
   "source": [
    "from sklearn.metrics import mean_absolute_error, mean_squared_error, mean_squared_log_error"
   ]
  },
  {
   "cell_type": "code",
   "execution_count": null,
   "metadata": {
    "ExecuteTime": {
     "start_time": "2019-03-09T14:18:49.292Z"
    }
   },
   "outputs": [],
   "source": [
    "from sklearn.metrics import median_absolute_error"
   ]
  },
  {
   "cell_type": "code",
   "execution_count": null,
   "metadata": {
    "ExecuteTime": {
     "start_time": "2019-03-09T14:18:49.744Z"
    }
   },
   "outputs": [],
   "source": [
    "total_models = pd.DataFrame()"
   ]
  },
  {
   "cell_type": "markdown",
   "metadata": {},
   "source": [
    "Let's try some quick default models"
   ]
  },
  {
   "cell_type": "code",
   "execution_count": 113,
   "metadata": {},
   "outputs": [],
   "source": [
    "model_names = ['LinearRegression','ARDRegression', 'BayesianRidge', 'ElasticNet', 'Lasso', 'Ridge',\n",
    "              'HuberRegressor', 'PassiveAggressiveRegressor', 'SGDRegressor', 'TheilSenRegressor']\n",
    "models = [LinearRegression(), ARDRegression(), BayesianRidge(), ElasticNet(), Lasso(), Ridge(),\n",
    "         HuberRegressor(), PassiveAggressiveRegressor(), SGDRegressor(), TheilSenRegressor()]\n",
    "\n",
    "mse = []\n",
    "mae = []\n",
    "msle = []\n",
    "medae = []\n",
    "r2 = []\n",
    "trained_model= []\n",
    "time_train = []\n",
    "\n",
    "for model in models:\n",
    "    start = time.time()\n",
    "    model.fit(X_train, y_train)\n",
    "    \n",
    "    mse.append(mean_squared_error(y_test, model.predict(X_test)))\n",
    "    mae.append(mean_absolute_error(y_test, model.predict(X_test)))\n",
    "    msle.append(mean_squared_log_error(y_test, abs(model.predict(X_test))))\n",
    "    medae.append(median_absolute_error(y_test, model.predict(X_test)))\n",
    "    r2.append(model.score(X_test, y_test))\n",
    "    \n",
    "    stop = time.time()\n",
    "    tr_time = stop - start\n",
    "    time_train.append(tr_time)\n",
    "    trained_model.append(model)\n",
    "\n",
    "models = pd.DataFrame(data = {'model': model_names, 'time_train': time_train,\n",
    "                      'MAE': mae, 'MSE': mse, 'MSLE': msle, 'MEDAE': medae, 'R2': r2})"
   ]
  },
  {
   "cell_type": "code",
   "execution_count": 114,
   "metadata": {},
   "outputs": [],
   "source": [
    "total_models = pd.concat([total_models, models])"
   ]
  },
  {
   "cell_type": "code",
   "execution_count": 115,
   "metadata": {},
   "outputs": [
    {
     "data": {
      "text/html": [
       "<div>\n",
       "<style scoped>\n",
       "    .dataframe tbody tr th:only-of-type {\n",
       "        vertical-align: middle;\n",
       "    }\n",
       "\n",
       "    .dataframe tbody tr th {\n",
       "        vertical-align: top;\n",
       "    }\n",
       "\n",
       "    .dataframe thead th {\n",
       "        text-align: right;\n",
       "    }\n",
       "</style>\n",
       "<table border=\"1\" class=\"dataframe\">\n",
       "  <thead>\n",
       "    <tr style=\"text-align: right;\">\n",
       "      <th></th>\n",
       "      <th>model</th>\n",
       "      <th>time_train</th>\n",
       "      <th>MAE</th>\n",
       "      <th>MSE</th>\n",
       "      <th>MSLE</th>\n",
       "      <th>MEDAE</th>\n",
       "      <th>R2</th>\n",
       "    </tr>\n",
       "  </thead>\n",
       "  <tbody>\n",
       "    <tr>\n",
       "      <th>0</th>\n",
       "      <td>LinearRegression</td>\n",
       "      <td>0.023141</td>\n",
       "      <td>3.148256</td>\n",
       "      <td>20.724023</td>\n",
       "      <td>0.081719</td>\n",
       "      <td>2.312603</td>\n",
       "      <td>0.726157</td>\n",
       "    </tr>\n",
       "    <tr>\n",
       "      <th>1</th>\n",
       "      <td>ARDRegression</td>\n",
       "      <td>0.297215</td>\n",
       "      <td>3.164629</td>\n",
       "      <td>21.436285</td>\n",
       "      <td>0.080393</td>\n",
       "      <td>2.382550</td>\n",
       "      <td>0.716745</td>\n",
       "    </tr>\n",
       "    <tr>\n",
       "      <th>2</th>\n",
       "      <td>BayesianRidge</td>\n",
       "      <td>0.003551</td>\n",
       "      <td>3.134114</td>\n",
       "      <td>20.908178</td>\n",
       "      <td>0.080722</td>\n",
       "      <td>2.321120</td>\n",
       "      <td>0.723724</td>\n",
       "    </tr>\n",
       "    <tr>\n",
       "      <th>3</th>\n",
       "      <td>ElasticNet</td>\n",
       "      <td>0.002628</td>\n",
       "      <td>3.609494</td>\n",
       "      <td>27.004604</td>\n",
       "      <td>0.057343</td>\n",
       "      <td>2.551250</td>\n",
       "      <td>0.643167</td>\n",
       "    </tr>\n",
       "    <tr>\n",
       "      <th>4</th>\n",
       "      <td>Lasso</td>\n",
       "      <td>0.002625</td>\n",
       "      <td>3.628197</td>\n",
       "      <td>26.091410</td>\n",
       "      <td>0.071345</td>\n",
       "      <td>2.485685</td>\n",
       "      <td>0.655234</td>\n",
       "    </tr>\n",
       "    <tr>\n",
       "      <th>5</th>\n",
       "      <td>Ridge</td>\n",
       "      <td>0.003140</td>\n",
       "      <td>3.146038</td>\n",
       "      <td>20.751678</td>\n",
       "      <td>0.081357</td>\n",
       "      <td>2.337690</td>\n",
       "      <td>0.725792</td>\n",
       "    </tr>\n",
       "    <tr>\n",
       "      <th>6</th>\n",
       "      <td>HuberRegressor</td>\n",
       "      <td>0.007906</td>\n",
       "      <td>3.066951</td>\n",
       "      <td>23.192098</td>\n",
       "      <td>0.073217</td>\n",
       "      <td>2.088120</td>\n",
       "      <td>0.693544</td>\n",
       "    </tr>\n",
       "    <tr>\n",
       "      <th>7</th>\n",
       "      <td>PassiveAggressiveRegressor</td>\n",
       "      <td>0.002594</td>\n",
       "      <td>3.911911</td>\n",
       "      <td>34.400940</td>\n",
       "      <td>0.067810</td>\n",
       "      <td>2.489590</td>\n",
       "      <td>0.545433</td>\n",
       "    </tr>\n",
       "    <tr>\n",
       "      <th>8</th>\n",
       "      <td>SGDRegressor</td>\n",
       "      <td>0.002681</td>\n",
       "      <td>3.116110</td>\n",
       "      <td>23.640832</td>\n",
       "      <td>0.060689</td>\n",
       "      <td>2.126580</td>\n",
       "      <td>0.687615</td>\n",
       "    </tr>\n",
       "    <tr>\n",
       "      <th>9</th>\n",
       "      <td>TheilSenRegressor</td>\n",
       "      <td>0.616246</td>\n",
       "      <td>3.496863</td>\n",
       "      <td>28.214352</td>\n",
       "      <td>0.121761</td>\n",
       "      <td>2.119372</td>\n",
       "      <td>0.627181</td>\n",
       "    </tr>\n",
       "  </tbody>\n",
       "</table>\n",
       "</div>"
      ],
      "text/plain": [
       "                        model  time_train       MAE        MSE      MSLE  \\\n",
       "0            LinearRegression    0.023141  3.148256  20.724023  0.081719   \n",
       "1               ARDRegression    0.297215  3.164629  21.436285  0.080393   \n",
       "2               BayesianRidge    0.003551  3.134114  20.908178  0.080722   \n",
       "3                  ElasticNet    0.002628  3.609494  27.004604  0.057343   \n",
       "4                       Lasso    0.002625  3.628197  26.091410  0.071345   \n",
       "5                       Ridge    0.003140  3.146038  20.751678  0.081357   \n",
       "6              HuberRegressor    0.007906  3.066951  23.192098  0.073217   \n",
       "7  PassiveAggressiveRegressor    0.002594  3.911911  34.400940  0.067810   \n",
       "8                SGDRegressor    0.002681  3.116110  23.640832  0.060689   \n",
       "9           TheilSenRegressor    0.616246  3.496863  28.214352  0.121761   \n",
       "\n",
       "      MEDAE        R2  \n",
       "0  2.312603  0.726157  \n",
       "1  2.382550  0.716745  \n",
       "2  2.321120  0.723724  \n",
       "3  2.551250  0.643167  \n",
       "4  2.485685  0.655234  \n",
       "5  2.337690  0.725792  \n",
       "6  2.088120  0.693544  \n",
       "7  2.489590  0.545433  \n",
       "8  2.126580  0.687615  \n",
       "9  2.119372  0.627181  "
      ]
     },
     "execution_count": 115,
     "metadata": {},
     "output_type": "execute_result"
    }
   ],
   "source": [
    "total_models"
   ]
  },
  {
   "cell_type": "code",
   "execution_count": 116,
   "metadata": {},
   "outputs": [
    {
     "data": {
      "text/html": [
       "<div>\n",
       "<style scoped>\n",
       "    .dataframe tbody tr th:only-of-type {\n",
       "        vertical-align: middle;\n",
       "    }\n",
       "\n",
       "    .dataframe tbody tr th {\n",
       "        vertical-align: top;\n",
       "    }\n",
       "\n",
       "    .dataframe thead th {\n",
       "        text-align: right;\n",
       "    }\n",
       "</style>\n",
       "<table border=\"1\" class=\"dataframe\">\n",
       "  <thead>\n",
       "    <tr style=\"text-align: right;\">\n",
       "      <th></th>\n",
       "      <th>model</th>\n",
       "      <th>time_train</th>\n",
       "      <th>MAE</th>\n",
       "      <th>MSE</th>\n",
       "      <th>MSLE</th>\n",
       "      <th>MEDAE</th>\n",
       "      <th>R2</th>\n",
       "    </tr>\n",
       "  </thead>\n",
       "  <tbody>\n",
       "    <tr>\n",
       "      <th>0</th>\n",
       "      <td>LinearRegression</td>\n",
       "      <td>0.023141</td>\n",
       "      <td>3.148256</td>\n",
       "      <td>20.724023</td>\n",
       "      <td>0.081719</td>\n",
       "      <td>2.312603</td>\n",
       "      <td>0.726157</td>\n",
       "    </tr>\n",
       "    <tr>\n",
       "      <th>5</th>\n",
       "      <td>Ridge</td>\n",
       "      <td>0.003140</td>\n",
       "      <td>3.146038</td>\n",
       "      <td>20.751678</td>\n",
       "      <td>0.081357</td>\n",
       "      <td>2.337690</td>\n",
       "      <td>0.725792</td>\n",
       "    </tr>\n",
       "    <tr>\n",
       "      <th>2</th>\n",
       "      <td>BayesianRidge</td>\n",
       "      <td>0.003551</td>\n",
       "      <td>3.134114</td>\n",
       "      <td>20.908178</td>\n",
       "      <td>0.080722</td>\n",
       "      <td>2.321120</td>\n",
       "      <td>0.723724</td>\n",
       "    </tr>\n",
       "    <tr>\n",
       "      <th>1</th>\n",
       "      <td>ARDRegression</td>\n",
       "      <td>0.297215</td>\n",
       "      <td>3.164629</td>\n",
       "      <td>21.436285</td>\n",
       "      <td>0.080393</td>\n",
       "      <td>2.382550</td>\n",
       "      <td>0.716745</td>\n",
       "    </tr>\n",
       "    <tr>\n",
       "      <th>6</th>\n",
       "      <td>HuberRegressor</td>\n",
       "      <td>0.007906</td>\n",
       "      <td>3.066951</td>\n",
       "      <td>23.192098</td>\n",
       "      <td>0.073217</td>\n",
       "      <td>2.088120</td>\n",
       "      <td>0.693544</td>\n",
       "    </tr>\n",
       "    <tr>\n",
       "      <th>8</th>\n",
       "      <td>SGDRegressor</td>\n",
       "      <td>0.002681</td>\n",
       "      <td>3.116110</td>\n",
       "      <td>23.640832</td>\n",
       "      <td>0.060689</td>\n",
       "      <td>2.126580</td>\n",
       "      <td>0.687615</td>\n",
       "    </tr>\n",
       "    <tr>\n",
       "      <th>4</th>\n",
       "      <td>Lasso</td>\n",
       "      <td>0.002625</td>\n",
       "      <td>3.628197</td>\n",
       "      <td>26.091410</td>\n",
       "      <td>0.071345</td>\n",
       "      <td>2.485685</td>\n",
       "      <td>0.655234</td>\n",
       "    </tr>\n",
       "    <tr>\n",
       "      <th>3</th>\n",
       "      <td>ElasticNet</td>\n",
       "      <td>0.002628</td>\n",
       "      <td>3.609494</td>\n",
       "      <td>27.004604</td>\n",
       "      <td>0.057343</td>\n",
       "      <td>2.551250</td>\n",
       "      <td>0.643167</td>\n",
       "    </tr>\n",
       "    <tr>\n",
       "      <th>9</th>\n",
       "      <td>TheilSenRegressor</td>\n",
       "      <td>0.616246</td>\n",
       "      <td>3.496863</td>\n",
       "      <td>28.214352</td>\n",
       "      <td>0.121761</td>\n",
       "      <td>2.119372</td>\n",
       "      <td>0.627181</td>\n",
       "    </tr>\n",
       "    <tr>\n",
       "      <th>7</th>\n",
       "      <td>PassiveAggressiveRegressor</td>\n",
       "      <td>0.002594</td>\n",
       "      <td>3.911911</td>\n",
       "      <td>34.400940</td>\n",
       "      <td>0.067810</td>\n",
       "      <td>2.489590</td>\n",
       "      <td>0.545433</td>\n",
       "    </tr>\n",
       "  </tbody>\n",
       "</table>\n",
       "</div>"
      ],
      "text/plain": [
       "                        model  time_train       MAE        MSE      MSLE  \\\n",
       "0            LinearRegression    0.023141  3.148256  20.724023  0.081719   \n",
       "5                       Ridge    0.003140  3.146038  20.751678  0.081357   \n",
       "2               BayesianRidge    0.003551  3.134114  20.908178  0.080722   \n",
       "1               ARDRegression    0.297215  3.164629  21.436285  0.080393   \n",
       "6              HuberRegressor    0.007906  3.066951  23.192098  0.073217   \n",
       "8                SGDRegressor    0.002681  3.116110  23.640832  0.060689   \n",
       "4                       Lasso    0.002625  3.628197  26.091410  0.071345   \n",
       "3                  ElasticNet    0.002628  3.609494  27.004604  0.057343   \n",
       "9           TheilSenRegressor    0.616246  3.496863  28.214352  0.121761   \n",
       "7  PassiveAggressiveRegressor    0.002594  3.911911  34.400940  0.067810   \n",
       "\n",
       "      MEDAE        R2  \n",
       "0  2.312603  0.726157  \n",
       "5  2.337690  0.725792  \n",
       "2  2.321120  0.723724  \n",
       "1  2.382550  0.716745  \n",
       "6  2.088120  0.693544  \n",
       "8  2.126580  0.687615  \n",
       "4  2.485685  0.655234  \n",
       "3  2.551250  0.643167  \n",
       "9  2.119372  0.627181  \n",
       "7  2.489590  0.545433  "
      ]
     },
     "execution_count": 116,
     "metadata": {},
     "output_type": "execute_result"
    }
   ],
   "source": [
    "models.sort_values('MSE')"
   ]
  },
  {
   "cell_type": "markdown",
   "metadata": {},
   "source": [
    "Seems that regular Linear Regression is the best candidate for this job. "
   ]
  },
  {
   "cell_type": "code",
   "execution_count": 117,
   "metadata": {},
   "outputs": [],
   "source": [
    "parameter = 'MSE'"
   ]
  },
  {
   "cell_type": "code",
   "execution_count": 118,
   "metadata": {},
   "outputs": [],
   "source": [
    "best_model = trained_model[models[models[parameter] == models[parameter].min()].index[0]]\n",
    "preds = best_model.predict(X_test)\n",
    "final_score_df = pd.concat([X_test, y_test], axis = 1)\n",
    "final_score_df['preds'] = preds"
   ]
  },
  {
   "cell_type": "code",
   "execution_count": 119,
   "metadata": {},
   "outputs": [
    {
     "data": {
      "text/html": [
       "<div>\n",
       "<style scoped>\n",
       "    .dataframe tbody tr th:only-of-type {\n",
       "        vertical-align: middle;\n",
       "    }\n",
       "\n",
       "    .dataframe tbody tr th {\n",
       "        vertical-align: top;\n",
       "    }\n",
       "\n",
       "    .dataframe thead th {\n",
       "        text-align: right;\n",
       "    }\n",
       "</style>\n",
       "<table border=\"1\" class=\"dataframe\">\n",
       "  <thead>\n",
       "    <tr style=\"text-align: right;\">\n",
       "      <th></th>\n",
       "      <th>medv</th>\n",
       "      <th>preds</th>\n",
       "    </tr>\n",
       "  </thead>\n",
       "  <tbody>\n",
       "    <tr>\n",
       "      <th>388</th>\n",
       "      <td>10.2</td>\n",
       "      <td>5.749436</td>\n",
       "    </tr>\n",
       "    <tr>\n",
       "      <th>78</th>\n",
       "      <td>21.2</td>\n",
       "      <td>21.833726</td>\n",
       "    </tr>\n",
       "    <tr>\n",
       "      <th>442</th>\n",
       "      <td>18.4</td>\n",
       "      <td>18.803106</td>\n",
       "    </tr>\n",
       "    <tr>\n",
       "      <th>271</th>\n",
       "      <td>25.2</td>\n",
       "      <td>27.474867</td>\n",
       "    </tr>\n",
       "    <tr>\n",
       "      <th>148</th>\n",
       "      <td>17.8</td>\n",
       "      <td>9.852554</td>\n",
       "    </tr>\n",
       "    <tr>\n",
       "      <th>68</th>\n",
       "      <td>17.4</td>\n",
       "      <td>17.700428</td>\n",
       "    </tr>\n",
       "    <tr>\n",
       "      <th>209</th>\n",
       "      <td>20.0</td>\n",
       "      <td>16.701459</td>\n",
       "    </tr>\n",
       "    <tr>\n",
       "      <th>307</th>\n",
       "      <td>28.2</td>\n",
       "      <td>31.647070</td>\n",
       "    </tr>\n",
       "    <tr>\n",
       "      <th>460</th>\n",
       "      <td>16.4</td>\n",
       "      <td>18.955947</td>\n",
       "    </tr>\n",
       "    <tr>\n",
       "      <th>474</th>\n",
       "      <td>13.8</td>\n",
       "      <td>16.026088</td>\n",
       "    </tr>\n",
       "  </tbody>\n",
       "</table>\n",
       "</div>"
      ],
      "text/plain": [
       "     medv      preds\n",
       "388  10.2   5.749436\n",
       "78   21.2  21.833726\n",
       "442  18.4  18.803106\n",
       "271  25.2  27.474867\n",
       "148  17.8   9.852554\n",
       "68   17.4  17.700428\n",
       "209  20.0  16.701459\n",
       "307  28.2  31.647070\n",
       "460  16.4  18.955947\n",
       "474  13.8  16.026088"
      ]
     },
     "execution_count": 119,
     "metadata": {},
     "output_type": "execute_result"
    }
   ],
   "source": [
    "final_score_df[['medv', 'preds']].sample(10)"
   ]
  },
  {
   "cell_type": "code",
   "execution_count": 120,
   "metadata": {},
   "outputs": [
    {
     "data": {
      "image/png": "[encoded data removed]",
      "text/plain": [
       "<Figure size 540x360 with 1 Axes>"
      ]
     },
     "metadata": {
      "needs_background": "light"
     },
     "output_type": "display_data"
    }
   ],
   "source": [
    "graph1 = sns.lmplot(data=final_score_df, x='medv', y='preds', markers=\".\", size = 5, aspect = 1.5, )"
   ]
  },
  {
   "cell_type": "markdown",
   "metadata": {},
   "source": [
    "### Extra: Trying a Ensemble Regressor to see if it makes any difference"
   ]
  },
  {
   "cell_type": "code",
   "execution_count": 121,
   "metadata": {},
   "outputs": [],
   "source": [
    "from sklearn.ensemble import AdaBoostRegressor, BaggingRegressor,ExtraTreesRegressor, GradientBoostingRegressor, RandomForestRegressor "
   ]
  },
  {
   "cell_type": "code",
   "execution_count": 122,
   "metadata": {},
   "outputs": [],
   "source": [
    "model_names = ['AdaBoostRegressor','BaggingRegressor', 'ExtraTreesRegressor',\n",
    "               'GradientBoostingRegressor', 'RandomForestRegressor']\n",
    "models = [AdaBoostRegressor(),BaggingRegressor(), ExtraTreesRegressor(),\n",
    "               GradientBoostingRegressor(), RandomForestRegressor()]\n",
    "\n",
    "mse = []\n",
    "mae = []\n",
    "msle = []\n",
    "medae = []\n",
    "r2 = []\n",
    "trained_model= []\n",
    "time_train = []\n",
    "\n",
    "for model in models:\n",
    "    start = time.time()\n",
    "    model.fit(X_train, y_train)\n",
    "    \n",
    "    mse.append(mean_squared_error(y_test, model.predict(X_test)))\n",
    "    mae.append(mean_absolute_error(y_test, model.predict(X_test)))\n",
    "    msle.append(mean_squared_log_error(y_test, abs(model.predict(X_test))))\n",
    "    medae.append(median_absolute_error(y_test, model.predict(X_test)))\n",
    "    r2.append(model.score(X_test, y_test))\n",
    "    \n",
    "    stop = time.time()\n",
    "    tr_time = stop - start\n",
    "    time_train.append(tr_time)\n",
    "    trained_model.append(model)\n",
    "\n",
    "models = pd.DataFrame(data = {'model': model_names, 'time_train': time_train,\n",
    "                      'MAE': mae, 'MSE': mse, 'MSLE': msle, 'MEDAE': medae, 'R2': r2})"
   ]
  },
  {
   "cell_type": "code",
   "execution_count": 123,
   "metadata": {},
   "outputs": [],
   "source": [
    "total_models = pd.concat([total_models, models])"
   ]
  },
  {
   "cell_type": "code",
   "execution_count": 124,
   "metadata": {},
   "outputs": [
    {
     "data": {
      "text/html": [
       "<div>\n",
       "<style scoped>\n",
       "    .dataframe tbody tr th:only-of-type {\n",
       "        vertical-align: middle;\n",
       "    }\n",
       "\n",
       "    .dataframe tbody tr th {\n",
       "        vertical-align: top;\n",
       "    }\n",
       "\n",
       "    .dataframe thead th {\n",
       "        text-align: right;\n",
       "    }\n",
       "</style>\n",
       "<table border=\"1\" class=\"dataframe\">\n",
       "  <thead>\n",
       "    <tr style=\"text-align: right;\">\n",
       "      <th></th>\n",
       "      <th>model</th>\n",
       "      <th>time_train</th>\n",
       "      <th>MAE</th>\n",
       "      <th>MSE</th>\n",
       "      <th>MSLE</th>\n",
       "      <th>MEDAE</th>\n",
       "      <th>R2</th>\n",
       "    </tr>\n",
       "  </thead>\n",
       "  <tbody>\n",
       "    <tr>\n",
       "      <th>3</th>\n",
       "      <td>GradientBoostingRegressor</td>\n",
       "      <td>0.034439</td>\n",
       "      <td>1.989713</td>\n",
       "      <td>8.492467</td>\n",
       "      <td>0.019463</td>\n",
       "      <td>1.329503</td>\n",
       "      <td>0.887782</td>\n",
       "    </tr>\n",
       "    <tr>\n",
       "      <th>2</th>\n",
       "      <td>ExtraTreesRegressor</td>\n",
       "      <td>0.013615</td>\n",
       "      <td>2.068323</td>\n",
       "      <td>10.271548</td>\n",
       "      <td>0.022025</td>\n",
       "      <td>1.310000</td>\n",
       "      <td>0.864274</td>\n",
       "    </tr>\n",
       "    <tr>\n",
       "      <th>4</th>\n",
       "      <td>RandomForestRegressor</td>\n",
       "      <td>0.018411</td>\n",
       "      <td>2.323772</td>\n",
       "      <td>11.859466</td>\n",
       "      <td>0.026129</td>\n",
       "      <td>1.580000</td>\n",
       "      <td>0.843291</td>\n",
       "    </tr>\n",
       "    <tr>\n",
       "      <th>1</th>\n",
       "      <td>BaggingRegressor</td>\n",
       "      <td>0.023113</td>\n",
       "      <td>2.385689</td>\n",
       "      <td>13.128555</td>\n",
       "      <td>0.029009</td>\n",
       "      <td>1.610000</td>\n",
       "      <td>0.826522</td>\n",
       "    </tr>\n",
       "    <tr>\n",
       "      <th>0</th>\n",
       "      <td>AdaBoostRegressor</td>\n",
       "      <td>0.075933</td>\n",
       "      <td>2.761406</td>\n",
       "      <td>15.349711</td>\n",
       "      <td>0.037828</td>\n",
       "      <td>2.279070</td>\n",
       "      <td>0.797172</td>\n",
       "    </tr>\n",
       "  </tbody>\n",
       "</table>\n",
       "</div>"
      ],
      "text/plain": [
       "                       model  time_train       MAE        MSE      MSLE  \\\n",
       "3  GradientBoostingRegressor    0.034439  1.989713   8.492467  0.019463   \n",
       "2        ExtraTreesRegressor    0.013615  2.068323  10.271548  0.022025   \n",
       "4      RandomForestRegressor    0.018411  2.323772  11.859466  0.026129   \n",
       "1           BaggingRegressor    0.023113  2.385689  13.128555  0.029009   \n",
       "0          AdaBoostRegressor    0.075933  2.761406  15.349711  0.037828   \n",
       "\n",
       "      MEDAE        R2  \n",
       "3  1.329503  0.887782  \n",
       "2  1.310000  0.864274  \n",
       "4  1.580000  0.843291  \n",
       "1  1.610000  0.826522  \n",
       "0  2.279070  0.797172  "
      ]
     },
     "execution_count": 124,
     "metadata": {},
     "output_type": "execute_result"
    }
   ],
   "source": [
    "models.sort_values('MSE')"
   ]
  },
  {
   "cell_type": "markdown",
   "metadata": {},
   "source": [
    "All ensemble regressors are doing better than the linear models (considerably)"
   ]
  },
  {
   "cell_type": "code",
   "execution_count": 125,
   "metadata": {},
   "outputs": [],
   "source": [
    "parameter = 'MSE'"
   ]
  },
  {
   "cell_type": "code",
   "execution_count": 126,
   "metadata": {},
   "outputs": [],
   "source": [
    "best_model = trained_model[models[models[parameter] == models[parameter].min()].index[0]]\n",
    "preds = best_model.predict(X_test)\n",
    "final_score_df = pd.concat([X_test, y_test], axis = 1)\n",
    "final_score_df['preds'] = preds"
   ]
  },
  {
   "cell_type": "code",
   "execution_count": 127,
   "metadata": {},
   "outputs": [
    {
     "data": {
      "text/html": [
       "<div>\n",
       "<style scoped>\n",
       "    .dataframe tbody tr th:only-of-type {\n",
       "        vertical-align: middle;\n",
       "    }\n",
       "\n",
       "    .dataframe tbody tr th {\n",
       "        vertical-align: top;\n",
       "    }\n",
       "\n",
       "    .dataframe thead th {\n",
       "        text-align: right;\n",
       "    }\n",
       "</style>\n",
       "<table border=\"1\" class=\"dataframe\">\n",
       "  <thead>\n",
       "    <tr style=\"text-align: right;\">\n",
       "      <th></th>\n",
       "      <th>medv</th>\n",
       "      <th>preds</th>\n",
       "    </tr>\n",
       "  </thead>\n",
       "  <tbody>\n",
       "    <tr>\n",
       "      <th>208</th>\n",
       "      <td>24.4</td>\n",
       "      <td>21.896146</td>\n",
       "    </tr>\n",
       "    <tr>\n",
       "      <th>432</th>\n",
       "      <td>16.1</td>\n",
       "      <td>19.622241</td>\n",
       "    </tr>\n",
       "    <tr>\n",
       "      <th>17</th>\n",
       "      <td>17.5</td>\n",
       "      <td>17.292811</td>\n",
       "    </tr>\n",
       "    <tr>\n",
       "      <th>209</th>\n",
       "      <td>20.0</td>\n",
       "      <td>18.257290</td>\n",
       "    </tr>\n",
       "    <tr>\n",
       "      <th>262</th>\n",
       "      <td>48.8</td>\n",
       "      <td>44.555794</td>\n",
       "    </tr>\n",
       "    <tr>\n",
       "      <th>131</th>\n",
       "      <td>19.6</td>\n",
       "      <td>19.723711</td>\n",
       "    </tr>\n",
       "    <tr>\n",
       "      <th>82</th>\n",
       "      <td>24.8</td>\n",
       "      <td>23.736320</td>\n",
       "    </tr>\n",
       "    <tr>\n",
       "      <th>412</th>\n",
       "      <td>17.9</td>\n",
       "      <td>11.009792</td>\n",
       "    </tr>\n",
       "    <tr>\n",
       "      <th>414</th>\n",
       "      <td>7.0</td>\n",
       "      <td>8.052247</td>\n",
       "    </tr>\n",
       "    <tr>\n",
       "      <th>418</th>\n",
       "      <td>8.8</td>\n",
       "      <td>7.061798</td>\n",
       "    </tr>\n",
       "  </tbody>\n",
       "</table>\n",
       "</div>"
      ],
      "text/plain": [
       "     medv      preds\n",
       "208  24.4  21.896146\n",
       "432  16.1  19.622241\n",
       "17   17.5  17.292811\n",
       "209  20.0  18.257290\n",
       "262  48.8  44.555794\n",
       "131  19.6  19.723711\n",
       "82   24.8  23.736320\n",
       "412  17.9  11.009792\n",
       "414   7.0   8.052247\n",
       "418   8.8   7.061798"
      ]
     },
     "execution_count": 127,
     "metadata": {},
     "output_type": "execute_result"
    }
   ],
   "source": [
    "final_score_df[['medv', 'preds']].sample(10)"
   ]
  },
  {
   "cell_type": "code",
   "execution_count": 128,
   "metadata": {},
   "outputs": [
    {
     "data": {
      "image/png": "[encoded data removed]",
      "text/plain": [
       "<Figure size 540x360 with 1 Axes>"
      ]
     },
     "metadata": {
      "needs_background": "light"
     },
     "output_type": "display_data"
    }
   ],
   "source": [
    "graph2 = sns.lmplot(data=final_score_df, x='medv', y='preds', markers=\".\", size = 5, aspect = 1.5, )"
   ]
  },
  {
   "cell_type": "markdown",
   "metadata": {},
   "source": [
    "We also don't get any kind of negative predictions. "
   ]
  },
  {
   "cell_type": "markdown",
   "metadata": {},
   "source": [
    "### Finally we try Support Vector Estimators and see how they compare"
   ]
  },
  {
   "cell_type": "code",
   "execution_count": 129,
   "metadata": {},
   "outputs": [],
   "source": [
    "from sklearn.svm import LinearSVR, NuSVR, SVR"
   ]
  },
  {
   "cell_type": "markdown",
   "metadata": {},
   "source": [
    "As SVM's are dependent on their kernels, we try them with different ones"
   ]
  },
  {
   "cell_type": "code",
   "execution_count": 130,
   "metadata": {},
   "outputs": [],
   "source": [
    "model_names = ['LinearSVR', 'NuSVR-Linear','NuSVR-Poly','NuSVR-RBF','NuSVR-Sigmoid',\n",
    "               'SVR-Linear','SVR-Poly','SVR-RBF','SVR-Sigmoid']\n",
    "models = [LinearSVR(), NuSVR(kernel='linear'), NuSVR(kernel='poly'),\n",
    "          NuSVR(kernel='rbf'), NuSVR(kernel = 'sigmoid'), SVR(kernel='linear'),\n",
    "          SVR(kernel='poly'), SVR(kernel='rbf'), SVR(kernel = 'sigmoid')]\n",
    "\n",
    "mse = []\n",
    "mae = []\n",
    "msle = []\n",
    "medae = []\n",
    "r2 = []\n",
    "trained_model= []\n",
    "time_train = []\n",
    "\n",
    "for model in models:\n",
    "    start = time.time()\n",
    "    model.fit(X_train, y_train)\n",
    "    \n",
    "    mse.append(mean_squared_error(y_test, model.predict(X_test)))\n",
    "    mae.append(mean_absolute_error(y_test, model.predict(X_test)))\n",
    "    msle.append(mean_squared_log_error(y_test, abs(model.predict(X_test))))\n",
    "    medae.append(median_absolute_error(y_test, model.predict(X_test)))\n",
    "    r2.append(model.score(X_test, y_test))\n",
    "    \n",
    "    stop = time.time()\n",
    "    tr_time = stop - start\n",
    "    time_train.append(tr_time)\n",
    "    trained_model.append(model)\n",
    "    print(\"Model Trained\")\n",
    "models = pd.DataFrame(data = {'model': model_names, 'time_train': time_train,\n",
    "                      'MAE': mae, 'MSE': mse, 'MSLE': msle, 'MEDAE': medae, 'R2':r2})"
   ]
  },
  {
   "cell_type": "code",
   "execution_count": 131,
   "metadata": {},
   "outputs": [],
   "source": [
    "total_models = pd.concat([total_models, models])"
   ]
  },
  {
   "cell_type": "code",
   "execution_count": 132,
   "metadata": {},
   "outputs": [
    {
     "data": {
      "text/html": [
       "<div>\n",
       "<style scoped>\n",
       "    .dataframe tbody tr th:only-of-type {\n",
       "        vertical-align: middle;\n",
       "    }\n",
       "\n",
       "    .dataframe tbody tr th {\n",
       "        vertical-align: top;\n",
       "    }\n",
       "\n",
       "    .dataframe thead th {\n",
       "        text-align: right;\n",
       "    }\n",
       "</style>\n",
       "<table border=\"1\" class=\"dataframe\">\n",
       "  <thead>\n",
       "    <tr style=\"text-align: right;\">\n",
       "      <th></th>\n",
       "      <th>model</th>\n",
       "      <th>time_train</th>\n",
       "      <th>MAE</th>\n",
       "      <th>MSE</th>\n",
       "      <th>MSLE</th>\n",
       "      <th>MEDAE</th>\n",
       "      <th>R2</th>\n",
       "    </tr>\n",
       "  </thead>\n",
       "  <tbody>\n",
       "    <tr>\n",
       "      <th>1</th>\n",
       "      <td>NuSVR-Linear</td>\n",
       "      <td>0.020553</td>\n",
       "      <td>3.028155</td>\n",
       "      <td>22.392916</td>\n",
       "      <td>0.071637</td>\n",
       "      <td>1.941636</td>\n",
       "      <td>0.704105</td>\n",
       "    </tr>\n",
       "    <tr>\n",
       "      <th>5</th>\n",
       "      <td>SVR-Linear</td>\n",
       "      <td>0.013299</td>\n",
       "      <td>3.113871</td>\n",
       "      <td>23.847461</td>\n",
       "      <td>0.083086</td>\n",
       "      <td>1.978347</td>\n",
       "      <td>0.684885</td>\n",
       "    </tr>\n",
       "    <tr>\n",
       "      <th>0</th>\n",
       "      <td>LinearSVR</td>\n",
       "      <td>0.004700</td>\n",
       "      <td>3.123428</td>\n",
       "      <td>24.589359</td>\n",
       "      <td>0.082405</td>\n",
       "      <td>1.848871</td>\n",
       "      <td>0.675081</td>\n",
       "    </tr>\n",
       "    <tr>\n",
       "      <th>6</th>\n",
       "      <td>SVR-Poly</td>\n",
       "      <td>0.009768</td>\n",
       "      <td>3.434201</td>\n",
       "      <td>26.858304</td>\n",
       "      <td>0.088135</td>\n",
       "      <td>2.151266</td>\n",
       "      <td>0.645100</td>\n",
       "    </tr>\n",
       "    <tr>\n",
       "      <th>2</th>\n",
       "      <td>NuSVR-Poly</td>\n",
       "      <td>0.008695</td>\n",
       "      <td>3.533333</td>\n",
       "      <td>27.017181</td>\n",
       "      <td>0.084061</td>\n",
       "      <td>2.233038</td>\n",
       "      <td>0.643001</td>\n",
       "    </tr>\n",
       "    <tr>\n",
       "      <th>7</th>\n",
       "      <td>SVR-RBF</td>\n",
       "      <td>0.017100</td>\n",
       "      <td>3.029396</td>\n",
       "      <td>27.489522</td>\n",
       "      <td>0.054828</td>\n",
       "      <td>1.577899</td>\n",
       "      <td>0.636759</td>\n",
       "    </tr>\n",
       "    <tr>\n",
       "      <th>4</th>\n",
       "      <td>NuSVR-Sigmoid</td>\n",
       "      <td>0.019821</td>\n",
       "      <td>3.453193</td>\n",
       "      <td>28.113797</td>\n",
       "      <td>0.051800</td>\n",
       "      <td>2.136676</td>\n",
       "      <td>0.628510</td>\n",
       "    </tr>\n",
       "    <tr>\n",
       "      <th>3</th>\n",
       "      <td>NuSVR-RBF</td>\n",
       "      <td>0.011547</td>\n",
       "      <td>3.133750</td>\n",
       "      <td>28.370844</td>\n",
       "      <td>0.056814</td>\n",
       "      <td>1.745240</td>\n",
       "      <td>0.625114</td>\n",
       "    </tr>\n",
       "    <tr>\n",
       "      <th>8</th>\n",
       "      <td>SVR-Sigmoid</td>\n",
       "      <td>0.017483</td>\n",
       "      <td>3.392652</td>\n",
       "      <td>28.920508</td>\n",
       "      <td>0.053122</td>\n",
       "      <td>2.214507</td>\n",
       "      <td>0.617850</td>\n",
       "    </tr>\n",
       "  </tbody>\n",
       "</table>\n",
       "</div>"
      ],
      "text/plain": [
       "           model  time_train       MAE        MSE      MSLE     MEDAE  \\\n",
       "1   NuSVR-Linear    0.020553  3.028155  22.392916  0.071637  1.941636   \n",
       "5     SVR-Linear    0.013299  3.113871  23.847461  0.083086  1.978347   \n",
       "0      LinearSVR    0.004700  3.123428  24.589359  0.082405  1.848871   \n",
       "6       SVR-Poly    0.009768  3.434201  26.858304  0.088135  2.151266   \n",
       "2     NuSVR-Poly    0.008695  3.533333  27.017181  0.084061  2.233038   \n",
       "7        SVR-RBF    0.017100  3.029396  27.489522  0.054828  1.577899   \n",
       "4  NuSVR-Sigmoid    0.019821  3.453193  28.113797  0.051800  2.136676   \n",
       "3      NuSVR-RBF    0.011547  3.133750  28.370844  0.056814  1.745240   \n",
       "8    SVR-Sigmoid    0.017483  3.392652  28.920508  0.053122  2.214507   \n",
       "\n",
       "         R2  \n",
       "1  0.704105  \n",
       "5  0.684885  \n",
       "0  0.675081  \n",
       "6  0.645100  \n",
       "2  0.643001  \n",
       "7  0.636759  \n",
       "4  0.628510  \n",
       "3  0.625114  \n",
       "8  0.617850  "
      ]
     },
     "execution_count": 132,
     "metadata": {},
     "output_type": "execute_result"
    }
   ],
   "source": [
    "models.sort_values('MSE')"
   ]
  },
  {
   "cell_type": "code",
   "execution_count": 133,
   "metadata": {},
   "outputs": [],
   "source": [
    "parameter = 'MSE'"
   ]
  },
  {
   "cell_type": "code",
   "execution_count": 134,
   "metadata": {},
   "outputs": [],
   "source": [
    "best_model = trained_model[models[models[parameter] == models[parameter].min()].index[0]]\n",
    "preds = best_model.predict(X_test)\n",
    "final_score_df = pd.concat([X_test, y_test], axis = 1)\n",
    "final_score_df['preds'] = preds"
   ]
  },
  {
   "cell_type": "code",
   "execution_count": 135,
   "metadata": {},
   "outputs": [
    {
     "data": {
      "text/html": [
       "<div>\n",
       "<style scoped>\n",
       "    .dataframe tbody tr th:only-of-type {\n",
       "        vertical-align: middle;\n",
       "    }\n",
       "\n",
       "    .dataframe tbody tr th {\n",
       "        vertical-align: top;\n",
       "    }\n",
       "\n",
       "    .dataframe thead th {\n",
       "        text-align: right;\n",
       "    }\n",
       "</style>\n",
       "<table border=\"1\" class=\"dataframe\">\n",
       "  <thead>\n",
       "    <tr style=\"text-align: right;\">\n",
       "      <th></th>\n",
       "      <th>medv</th>\n",
       "      <th>preds</th>\n",
       "    </tr>\n",
       "  </thead>\n",
       "  <tbody>\n",
       "    <tr>\n",
       "      <th>104</th>\n",
       "      <td>20.1</td>\n",
       "      <td>20.598134</td>\n",
       "    </tr>\n",
       "    <tr>\n",
       "      <th>185</th>\n",
       "      <td>29.6</td>\n",
       "      <td>23.282188</td>\n",
       "    </tr>\n",
       "    <tr>\n",
       "      <th>278</th>\n",
       "      <td>29.1</td>\n",
       "      <td>29.167278</td>\n",
       "    </tr>\n",
       "    <tr>\n",
       "      <th>250</th>\n",
       "      <td>24.4</td>\n",
       "      <td>25.224757</td>\n",
       "    </tr>\n",
       "    <tr>\n",
       "      <th>17</th>\n",
       "      <td>17.5</td>\n",
       "      <td>17.197504</td>\n",
       "    </tr>\n",
       "    <tr>\n",
       "      <th>203</th>\n",
       "      <td>48.5</td>\n",
       "      <td>40.287664</td>\n",
       "    </tr>\n",
       "    <tr>\n",
       "      <th>497</th>\n",
       "      <td>18.3</td>\n",
       "      <td>19.069499</td>\n",
       "    </tr>\n",
       "    <tr>\n",
       "      <th>392</th>\n",
       "      <td>9.7</td>\n",
       "      <td>8.448607</td>\n",
       "    </tr>\n",
       "    <tr>\n",
       "      <th>322</th>\n",
       "      <td>20.4</td>\n",
       "      <td>22.392477</td>\n",
       "    </tr>\n",
       "    <tr>\n",
       "      <th>23</th>\n",
       "      <td>14.5</td>\n",
       "      <td>13.955162</td>\n",
       "    </tr>\n",
       "  </tbody>\n",
       "</table>\n",
       "</div>"
      ],
      "text/plain": [
       "     medv      preds\n",
       "104  20.1  20.598134\n",
       "185  29.6  23.282188\n",
       "278  29.1  29.167278\n",
       "250  24.4  25.224757\n",
       "17   17.5  17.197504\n",
       "203  48.5  40.287664\n",
       "497  18.3  19.069499\n",
       "392   9.7   8.448607\n",
       "322  20.4  22.392477\n",
       "23   14.5  13.955162"
      ]
     },
     "execution_count": 135,
     "metadata": {},
     "output_type": "execute_result"
    }
   ],
   "source": [
    "final_score_df[['medv', 'preds']].sample(10)"
   ]
  },
  {
   "cell_type": "code",
   "execution_count": 136,
   "metadata": {},
   "outputs": [
    {
     "data": {
      "image/png": "[encoded data removed]",
      "text/plain": [
       "<Figure size 540x360 with 1 Axes>"
      ]
     },
     "metadata": {
      "needs_background": "light"
     },
     "output_type": "display_data"
    }
   ],
   "source": [
    "graph2 = sns.lmplot(data=final_score_df, x='medv', y='preds', markers=\".\", size = 5, aspect = 1.5, )"
   ]
  },
  {
   "cell_type": "markdown",
   "metadata": {},
   "source": [
    "### Tree Regressors"
   ]
  },
  {
   "cell_type": "code",
   "execution_count": null,
   "metadata": {},
   "outputs": [],
   "source": []
  },
  {
   "cell_type": "code",
   "execution_count": 137,
   "metadata": {},
   "outputs": [],
   "source": [
    "from sklearn.tree import DecisionTreeRegressor, ExtraTreeRegressor"
   ]
  },
  {
   "cell_type": "markdown",
   "metadata": {},
   "source": [
    "As SVM's are dependent on their kernels, we try them with different ones"
   ]
  },
  {
   "cell_type": "code",
   "execution_count": 138,
   "metadata": {},
   "outputs": [],
   "source": [
    "model_names = ['DecisionTreeRegressor', 'ExtraTreeRegressor']\n",
    "models = [DecisionTreeRegressor(), ExtraTreeRegressor()]\n",
    "\n",
    "mse = []\n",
    "mae = []\n",
    "msle = []\n",
    "medae = []\n",
    "r2 = []\n",
    "trained_model= []\n",
    "time_train = []\n",
    "\n",
    "for model in models:\n",
    "    start = time.time()\n",
    "    model.fit(X_train, y_train)\n",
    "    \n",
    "    mse.append(mean_squared_error(y_test, model.predict(X_test)))\n",
    "    mae.append(mean_absolute_error(y_test, model.predict(X_test)))\n",
    "    msle.append(mean_squared_log_error(y_test, abs(model.predict(X_test))))\n",
    "    medae.append(median_absolute_error(y_test, model.predict(X_test)))\n",
    "    r2.append(model.score(X_test, y_test))\n",
    "    \n",
    "    stop = time.time()\n",
    "    tr_time = stop - start\n",
    "    time_train.append(tr_time)\n",
    "    trained_model.append(model)\n",
    "    #print(model)\n",
    "models = pd.DataFrame(data = {'model': model_names, 'time_train': time_train,\n",
    "                      'MAE': mae, 'MSE': mse, 'MSLE': msle, 'MEDAE': medae, 'R2': r2})"
   ]
  },
  {
   "cell_type": "code",
   "execution_count": 139,
   "metadata": {},
   "outputs": [],
   "source": [
    "total_models = pd.concat([total_models, models])"
   ]
  },
  {
   "cell_type": "code",
   "execution_count": 140,
   "metadata": {},
   "outputs": [
    {
     "data": {
      "text/html": [
       "<div>\n",
       "<style scoped>\n",
       "    .dataframe tbody tr th:only-of-type {\n",
       "        vertical-align: middle;\n",
       "    }\n",
       "\n",
       "    .dataframe tbody tr th {\n",
       "        vertical-align: top;\n",
       "    }\n",
       "\n",
       "    .dataframe thead th {\n",
       "        text-align: right;\n",
       "    }\n",
       "</style>\n",
       "<table border=\"1\" class=\"dataframe\">\n",
       "  <thead>\n",
       "    <tr style=\"text-align: right;\">\n",
       "      <th></th>\n",
       "      <th>model</th>\n",
       "      <th>time_train</th>\n",
       "      <th>MAE</th>\n",
       "      <th>MSE</th>\n",
       "      <th>MSLE</th>\n",
       "      <th>MEDAE</th>\n",
       "      <th>R2</th>\n",
       "    </tr>\n",
       "  </thead>\n",
       "  <tbody>\n",
       "    <tr>\n",
       "      <th>0</th>\n",
       "      <td>DecisionTreeRegressor</td>\n",
       "      <td>0.005001</td>\n",
       "      <td>3.010778</td>\n",
       "      <td>19.208144</td>\n",
       "      <td>0.037723</td>\n",
       "      <td>2.0</td>\n",
       "      <td>0.746188</td>\n",
       "    </tr>\n",
       "    <tr>\n",
       "      <th>1</th>\n",
       "      <td>ExtraTreeRegressor</td>\n",
       "      <td>0.003267</td>\n",
       "      <td>3.534731</td>\n",
       "      <td>29.894671</td>\n",
       "      <td>0.067652</td>\n",
       "      <td>2.3</td>\n",
       "      <td>0.604978</td>\n",
       "    </tr>\n",
       "  </tbody>\n",
       "</table>\n",
       "</div>"
      ],
      "text/plain": [
       "                   model  time_train       MAE        MSE      MSLE  MEDAE  \\\n",
       "0  DecisionTreeRegressor    0.005001  3.010778  19.208144  0.037723    2.0   \n",
       "1     ExtraTreeRegressor    0.003267  3.534731  29.894671  0.067652    2.3   \n",
       "\n",
       "         R2  \n",
       "0  0.746188  \n",
       "1  0.604978  "
      ]
     },
     "execution_count": 140,
     "metadata": {},
     "output_type": "execute_result"
    }
   ],
   "source": [
    "models.sort_values('MSE')"
   ]
  },
  {
   "cell_type": "code",
   "execution_count": 141,
   "metadata": {},
   "outputs": [],
   "source": [
    "parameter = 'MSE'"
   ]
  },
  {
   "cell_type": "code",
   "execution_count": 142,
   "metadata": {},
   "outputs": [],
   "source": [
    "best_model = trained_model[models[models[parameter] == models[parameter].min()].index[0]]\n",
    "preds = best_model.predict(X_test)\n",
    "final_score_df = pd.concat([X_test, y_test], axis = 1)\n",
    "final_score_df['preds'] = preds"
   ]
  },
  {
   "cell_type": "code",
   "execution_count": 143,
   "metadata": {},
   "outputs": [
    {
     "data": {
      "text/html": [
       "<div>\n",
       "<style scoped>\n",
       "    .dataframe tbody tr th:only-of-type {\n",
       "        vertical-align: middle;\n",
       "    }\n",
       "\n",
       "    .dataframe tbody tr th {\n",
       "        vertical-align: top;\n",
       "    }\n",
       "\n",
       "    .dataframe thead th {\n",
       "        text-align: right;\n",
       "    }\n",
       "</style>\n",
       "<table border=\"1\" class=\"dataframe\">\n",
       "  <thead>\n",
       "    <tr style=\"text-align: right;\">\n",
       "      <th></th>\n",
       "      <th>medv</th>\n",
       "      <th>preds</th>\n",
       "    </tr>\n",
       "  </thead>\n",
       "  <tbody>\n",
       "    <tr>\n",
       "      <th>473</th>\n",
       "      <td>29.8</td>\n",
       "      <td>22.0</td>\n",
       "    </tr>\n",
       "    <tr>\n",
       "      <th>375</th>\n",
       "      <td>15.0</td>\n",
       "      <td>36.5</td>\n",
       "    </tr>\n",
       "    <tr>\n",
       "      <th>66</th>\n",
       "      <td>19.4</td>\n",
       "      <td>19.6</td>\n",
       "    </tr>\n",
       "    <tr>\n",
       "      <th>101</th>\n",
       "      <td>26.5</td>\n",
       "      <td>29.4</td>\n",
       "    </tr>\n",
       "    <tr>\n",
       "      <th>84</th>\n",
       "      <td>23.9</td>\n",
       "      <td>22.9</td>\n",
       "    </tr>\n",
       "    <tr>\n",
       "      <th>24</th>\n",
       "      <td>15.6</td>\n",
       "      <td>18.1</td>\n",
       "    </tr>\n",
       "    <tr>\n",
       "      <th>194</th>\n",
       "      <td>29.1</td>\n",
       "      <td>24.5</td>\n",
       "    </tr>\n",
       "    <tr>\n",
       "      <th>250</th>\n",
       "      <td>24.4</td>\n",
       "      <td>25.0</td>\n",
       "    </tr>\n",
       "    <tr>\n",
       "      <th>489</th>\n",
       "      <td>7.0</td>\n",
       "      <td>14.4</td>\n",
       "    </tr>\n",
       "    <tr>\n",
       "      <th>452</th>\n",
       "      <td>16.1</td>\n",
       "      <td>15.2</td>\n",
       "    </tr>\n",
       "  </tbody>\n",
       "</table>\n",
       "</div>"
      ],
      "text/plain": [
       "     medv  preds\n",
       "473  29.8   22.0\n",
       "375  15.0   36.5\n",
       "66   19.4   19.6\n",
       "101  26.5   29.4\n",
       "84   23.9   22.9\n",
       "24   15.6   18.1\n",
       "194  29.1   24.5\n",
       "250  24.4   25.0\n",
       "489   7.0   14.4\n",
       "452  16.1   15.2"
      ]
     },
     "execution_count": 143,
     "metadata": {},
     "output_type": "execute_result"
    }
   ],
   "source": [
    "final_score_df[['medv', 'preds']].sample(10)"
   ]
  },
  {
   "cell_type": "code",
   "execution_count": 144,
   "metadata": {},
   "outputs": [
    {
     "data": {
      "image/png": "[encoded data removed]",
      "text/plain": [
       "<Figure size 540x360 with 1 Axes>"
      ]
     },
     "metadata": {
      "needs_background": "light"
     },
     "output_type": "display_data"
    }
   ],
   "source": [
    "graph2 = sns.lmplot(data=final_score_df, x='medv', y='preds', markers=\".\", size = 5, aspect = 1.5, )"
   ]
  },
  {
   "cell_type": "code",
   "execution_count": 145,
   "metadata": {},
   "outputs": [],
   "source": [
    "stop_script = time.time()"
   ]
  },
  {
   "cell_type": "code",
   "execution_count": 146,
   "metadata": {},
   "outputs": [
    {
     "name": "stdout",
     "output_type": "stream",
     "text": [
      "This script took:  3.01  seconds to run.\n"
     ]
    }
   ],
   "source": [
    "script_time = stop_script - start_script\n",
    "print(\"This script took: \", round(script_time, 2), \" seconds to run.\")"
   ]
  },
  {
   "cell_type": "code",
   "execution_count": 149,
   "metadata": {},
   "outputs": [
    {
     "data": {
      "text/html": [
       "<div>\n",
       "<style scoped>\n",
       "    .dataframe tbody tr th:only-of-type {\n",
       "        vertical-align: middle;\n",
       "    }\n",
       "\n",
       "    .dataframe tbody tr th {\n",
       "        vertical-align: top;\n",
       "    }\n",
       "\n",
       "    .dataframe thead th {\n",
       "        text-align: right;\n",
       "    }\n",
       "</style>\n",
       "<table border=\"1\" class=\"dataframe\">\n",
       "  <thead>\n",
       "    <tr style=\"text-align: right;\">\n",
       "      <th></th>\n",
       "      <th>model</th>\n",
       "      <th>time_train</th>\n",
       "      <th>MAE</th>\n",
       "      <th>MSE</th>\n",
       "      <th>MSLE</th>\n",
       "      <th>MEDAE</th>\n",
       "      <th>R2</th>\n",
       "    </tr>\n",
       "  </thead>\n",
       "  <tbody>\n",
       "    <tr>\n",
       "      <th>3</th>\n",
       "      <td>GradientBoostingRegressor</td>\n",
       "      <td>0.034439</td>\n",
       "      <td>1.989713</td>\n",
       "      <td>8.492467</td>\n",
       "      <td>0.019463</td>\n",
       "      <td>1.329503</td>\n",
       "      <td>0.887782</td>\n",
       "    </tr>\n",
       "    <tr>\n",
       "      <th>2</th>\n",
       "      <td>ExtraTreesRegressor</td>\n",
       "      <td>0.013615</td>\n",
       "      <td>2.068323</td>\n",
       "      <td>10.271548</td>\n",
       "      <td>0.022025</td>\n",
       "      <td>1.310000</td>\n",
       "      <td>0.864274</td>\n",
       "    </tr>\n",
       "    <tr>\n",
       "      <th>4</th>\n",
       "      <td>RandomForestRegressor</td>\n",
       "      <td>0.018411</td>\n",
       "      <td>2.323772</td>\n",
       "      <td>11.859466</td>\n",
       "      <td>0.026129</td>\n",
       "      <td>1.580000</td>\n",
       "      <td>0.843291</td>\n",
       "    </tr>\n",
       "    <tr>\n",
       "      <th>1</th>\n",
       "      <td>BaggingRegressor</td>\n",
       "      <td>0.023113</td>\n",
       "      <td>2.385689</td>\n",
       "      <td>13.128555</td>\n",
       "      <td>0.029009</td>\n",
       "      <td>1.610000</td>\n",
       "      <td>0.826522</td>\n",
       "    </tr>\n",
       "    <tr>\n",
       "      <th>0</th>\n",
       "      <td>AdaBoostRegressor</td>\n",
       "      <td>0.075933</td>\n",
       "      <td>2.761406</td>\n",
       "      <td>15.349711</td>\n",
       "      <td>0.037828</td>\n",
       "      <td>2.279070</td>\n",
       "      <td>0.797172</td>\n",
       "    </tr>\n",
       "    <tr>\n",
       "      <th>0</th>\n",
       "      <td>DecisionTreeRegressor</td>\n",
       "      <td>0.005001</td>\n",
       "      <td>3.010778</td>\n",
       "      <td>19.208144</td>\n",
       "      <td>0.037723</td>\n",
       "      <td>2.000000</td>\n",
       "      <td>0.746188</td>\n",
       "    </tr>\n",
       "    <tr>\n",
       "      <th>0</th>\n",
       "      <td>LinearRegression</td>\n",
       "      <td>0.023141</td>\n",
       "      <td>3.148256</td>\n",
       "      <td>20.724023</td>\n",
       "      <td>0.081719</td>\n",
       "      <td>2.312603</td>\n",
       "      <td>0.726157</td>\n",
       "    </tr>\n",
       "    <tr>\n",
       "      <th>5</th>\n",
       "      <td>Ridge</td>\n",
       "      <td>0.003140</td>\n",
       "      <td>3.146038</td>\n",
       "      <td>20.751678</td>\n",
       "      <td>0.081357</td>\n",
       "      <td>2.337690</td>\n",
       "      <td>0.725792</td>\n",
       "    </tr>\n",
       "    <tr>\n",
       "      <th>2</th>\n",
       "      <td>BayesianRidge</td>\n",
       "      <td>0.003551</td>\n",
       "      <td>3.134114</td>\n",
       "      <td>20.908178</td>\n",
       "      <td>0.080722</td>\n",
       "      <td>2.321120</td>\n",
       "      <td>0.723724</td>\n",
       "    </tr>\n",
       "    <tr>\n",
       "      <th>1</th>\n",
       "      <td>ARDRegression</td>\n",
       "      <td>0.297215</td>\n",
       "      <td>3.164629</td>\n",
       "      <td>21.436285</td>\n",
       "      <td>0.080393</td>\n",
       "      <td>2.382550</td>\n",
       "      <td>0.716745</td>\n",
       "    </tr>\n",
       "    <tr>\n",
       "      <th>1</th>\n",
       "      <td>NuSVR-Linear</td>\n",
       "      <td>0.020553</td>\n",
       "      <td>3.028155</td>\n",
       "      <td>22.392916</td>\n",
       "      <td>0.071637</td>\n",
       "      <td>1.941636</td>\n",
       "      <td>0.704105</td>\n",
       "    </tr>\n",
       "    <tr>\n",
       "      <th>6</th>\n",
       "      <td>HuberRegressor</td>\n",
       "      <td>0.007906</td>\n",
       "      <td>3.066951</td>\n",
       "      <td>23.192098</td>\n",
       "      <td>0.073217</td>\n",
       "      <td>2.088120</td>\n",
       "      <td>0.693544</td>\n",
       "    </tr>\n",
       "    <tr>\n",
       "      <th>8</th>\n",
       "      <td>SGDRegressor</td>\n",
       "      <td>0.002681</td>\n",
       "      <td>3.116110</td>\n",
       "      <td>23.640832</td>\n",
       "      <td>0.060689</td>\n",
       "      <td>2.126580</td>\n",
       "      <td>0.687615</td>\n",
       "    </tr>\n",
       "    <tr>\n",
       "      <th>5</th>\n",
       "      <td>SVR-Linear</td>\n",
       "      <td>0.013299</td>\n",
       "      <td>3.113871</td>\n",
       "      <td>23.847461</td>\n",
       "      <td>0.083086</td>\n",
       "      <td>1.978347</td>\n",
       "      <td>0.684885</td>\n",
       "    </tr>\n",
       "    <tr>\n",
       "      <th>0</th>\n",
       "      <td>LinearSVR</td>\n",
       "      <td>0.004700</td>\n",
       "      <td>3.123428</td>\n",
       "      <td>24.589359</td>\n",
       "      <td>0.082405</td>\n",
       "      <td>1.848871</td>\n",
       "      <td>0.675081</td>\n",
       "    </tr>\n",
       "    <tr>\n",
       "      <th>4</th>\n",
       "      <td>Lasso</td>\n",
       "      <td>0.002625</td>\n",
       "      <td>3.628197</td>\n",
       "      <td>26.091410</td>\n",
       "      <td>0.071345</td>\n",
       "      <td>2.485685</td>\n",
       "      <td>0.655234</td>\n",
       "    </tr>\n",
       "    <tr>\n",
       "      <th>6</th>\n",
       "      <td>SVR-Poly</td>\n",
       "      <td>0.009768</td>\n",
       "      <td>3.434201</td>\n",
       "      <td>26.858304</td>\n",
       "      <td>0.088135</td>\n",
       "      <td>2.151266</td>\n",
       "      <td>0.645100</td>\n",
       "    </tr>\n",
       "    <tr>\n",
       "      <th>3</th>\n",
       "      <td>ElasticNet</td>\n",
       "      <td>0.002628</td>\n",
       "      <td>3.609494</td>\n",
       "      <td>27.004604</td>\n",
       "      <td>0.057343</td>\n",
       "      <td>2.551250</td>\n",
       "      <td>0.643167</td>\n",
       "    </tr>\n",
       "    <tr>\n",
       "      <th>2</th>\n",
       "      <td>NuSVR-Poly</td>\n",
       "      <td>0.008695</td>\n",
       "      <td>3.533333</td>\n",
       "      <td>27.017181</td>\n",
       "      <td>0.084061</td>\n",
       "      <td>2.233038</td>\n",
       "      <td>0.643001</td>\n",
       "    </tr>\n",
       "    <tr>\n",
       "      <th>7</th>\n",
       "      <td>SVR-RBF</td>\n",
       "      <td>0.017100</td>\n",
       "      <td>3.029396</td>\n",
       "      <td>27.489522</td>\n",
       "      <td>0.054828</td>\n",
       "      <td>1.577899</td>\n",
       "      <td>0.636759</td>\n",
       "    </tr>\n",
       "    <tr>\n",
       "      <th>4</th>\n",
       "      <td>NuSVR-Sigmoid</td>\n",
       "      <td>0.019821</td>\n",
       "      <td>3.453193</td>\n",
       "      <td>28.113797</td>\n",
       "      <td>0.051800</td>\n",
       "      <td>2.136676</td>\n",
       "      <td>0.628510</td>\n",
       "    </tr>\n",
       "    <tr>\n",
       "      <th>9</th>\n",
       "      <td>TheilSenRegressor</td>\n",
       "      <td>0.616246</td>\n",
       "      <td>3.496863</td>\n",
       "      <td>28.214352</td>\n",
       "      <td>0.121761</td>\n",
       "      <td>2.119372</td>\n",
       "      <td>0.627181</td>\n",
       "    </tr>\n",
       "    <tr>\n",
       "      <th>3</th>\n",
       "      <td>NuSVR-RBF</td>\n",
       "      <td>0.011547</td>\n",
       "      <td>3.133750</td>\n",
       "      <td>28.370844</td>\n",
       "      <td>0.056814</td>\n",
       "      <td>1.745240</td>\n",
       "      <td>0.625114</td>\n",
       "    </tr>\n",
       "    <tr>\n",
       "      <th>8</th>\n",
       "      <td>SVR-Sigmoid</td>\n",
       "      <td>0.017483</td>\n",
       "      <td>3.392652</td>\n",
       "      <td>28.920508</td>\n",
       "      <td>0.053122</td>\n",
       "      <td>2.214507</td>\n",
       "      <td>0.617850</td>\n",
       "    </tr>\n",
       "    <tr>\n",
       "      <th>1</th>\n",
       "      <td>ExtraTreeRegressor</td>\n",
       "      <td>0.003267</td>\n",
       "      <td>3.534731</td>\n",
       "      <td>29.894671</td>\n",
       "      <td>0.067652</td>\n",
       "      <td>2.300000</td>\n",
       "      <td>0.604978</td>\n",
       "    </tr>\n",
       "    <tr>\n",
       "      <th>7</th>\n",
       "      <td>PassiveAggressiveRegressor</td>\n",
       "      <td>0.002594</td>\n",
       "      <td>3.911911</td>\n",
       "      <td>34.400940</td>\n",
       "      <td>0.067810</td>\n",
       "      <td>2.489590</td>\n",
       "      <td>0.545433</td>\n",
       "    </tr>\n",
       "  </tbody>\n",
       "</table>\n",
       "</div>"
      ],
      "text/plain": [
       "                        model  time_train       MAE        MSE      MSLE  \\\n",
       "3   GradientBoostingRegressor    0.034439  1.989713   8.492467  0.019463   \n",
       "2         ExtraTreesRegressor    0.013615  2.068323  10.271548  0.022025   \n",
       "4       RandomForestRegressor    0.018411  2.323772  11.859466  0.026129   \n",
       "1            BaggingRegressor    0.023113  2.385689  13.128555  0.029009   \n",
       "0           AdaBoostRegressor    0.075933  2.761406  15.349711  0.037828   \n",
       "0       DecisionTreeRegressor    0.005001  3.010778  19.208144  0.037723   \n",
       "0            LinearRegression    0.023141  3.148256  20.724023  0.081719   \n",
       "5                       Ridge    0.003140  3.146038  20.751678  0.081357   \n",
       "2               BayesianRidge    0.003551  3.134114  20.908178  0.080722   \n",
       "1               ARDRegression    0.297215  3.164629  21.436285  0.080393   \n",
       "1                NuSVR-Linear    0.020553  3.028155  22.392916  0.071637   \n",
       "6              HuberRegressor    0.007906  3.066951  23.192098  0.073217   \n",
       "8                SGDRegressor    0.002681  3.116110  23.640832  0.060689   \n",
       "5                  SVR-Linear    0.013299  3.113871  23.847461  0.083086   \n",
       "0                   LinearSVR    0.004700  3.123428  24.589359  0.082405   \n",
       "4                       Lasso    0.002625  3.628197  26.091410  0.071345   \n",
       "6                    SVR-Poly    0.009768  3.434201  26.858304  0.088135   \n",
       "3                  ElasticNet    0.002628  3.609494  27.004604  0.057343   \n",
       "2                  NuSVR-Poly    0.008695  3.533333  27.017181  0.084061   \n",
       "7                     SVR-RBF    0.017100  3.029396  27.489522  0.054828   \n",
       "4               NuSVR-Sigmoid    0.019821  3.453193  28.113797  0.051800   \n",
       "9           TheilSenRegressor    0.616246  3.496863  28.214352  0.121761   \n",
       "3                   NuSVR-RBF    0.011547  3.133750  28.370844  0.056814   \n",
       "8                 SVR-Sigmoid    0.017483  3.392652  28.920508  0.053122   \n",
       "1          ExtraTreeRegressor    0.003267  3.534731  29.894671  0.067652   \n",
       "7  PassiveAggressiveRegressor    0.002594  3.911911  34.400940  0.067810   \n",
       "\n",
       "      MEDAE        R2  \n",
       "3  1.329503  0.887782  \n",
       "2  1.310000  0.864274  \n",
       "4  1.580000  0.843291  \n",
       "1  1.610000  0.826522  \n",
       "0  2.279070  0.797172  \n",
       "0  2.000000  0.746188  \n",
       "0  2.312603  0.726157  \n",
       "5  2.337690  0.725792  \n",
       "2  2.321120  0.723724  \n",
       "1  2.382550  0.716745  \n",
       "1  1.941636  0.704105  \n",
       "6  2.088120  0.693544  \n",
       "8  2.126580  0.687615  \n",
       "5  1.978347  0.684885  \n",
       "0  1.848871  0.675081  \n",
       "4  2.485685  0.655234  \n",
       "6  2.151266  0.645100  \n",
       "3  2.551250  0.643167  \n",
       "2  2.233038  0.643001  \n",
       "7  1.577899  0.636759  \n",
       "4  2.136676  0.628510  \n",
       "9  2.119372  0.627181  \n",
       "3  1.745240  0.625114  \n",
       "8  2.214507  0.617850  \n",
       "1  2.300000  0.604978  \n",
       "7  2.489590  0.545433  "
      ]
     },
     "execution_count": 149,
     "metadata": {},
     "output_type": "execute_result"
    }
   ],
   "source": [
    "total_models.sort_values('R2', ascending=False)"
   ]
  },
  {
   "cell_type": "code",
   "execution_count": null,
   "metadata": {},
   "outputs": [],
   "source": []
  }
 ],
 "metadata": {
  "kernelspec": {
   "display_name": "Python [default]",
   "language": "python",
   "name": "python3"
  },
  "toc": {
   "base_numbering": 1,
   "nav_menu": {},
   "number_sections": true,
   "sideBar": true,
   "skip_h1_title": true,
   "title_cell": "Table of Contents",
   "title_sidebar": "Contents",
   "toc_cell": false,
   "toc_position": {},
   "toc_section_display": true,
   "toc_window_display": false
  },
  "varInspector": {
   "cols": {
    "lenName": 16,
    "lenType": 16,
    "lenVar": 40
   },
   "kernels_config": {
    "python": {
     "delete_cmd_postfix": "",
     "delete_cmd_prefix": "del ",
     "library": "var_list.py",
     "varRefreshCmd": "print(var_dic_list())"
    },
    "r": {
     "delete_cmd_postfix": ") ",
     "delete_cmd_prefix": "rm(",
     "library": "var_list.r",
     "varRefreshCmd": "cat(var_dic_list()) "
    }
   },
   "types_to_exclude": [
    "module",
    "function",
    "builtin_function_or_method",
    "instance",
    "_Feature"
   ],
   "window_display": false
  }
 },
 "nbformat": 4,
 "nbformat_minor": 2
}
